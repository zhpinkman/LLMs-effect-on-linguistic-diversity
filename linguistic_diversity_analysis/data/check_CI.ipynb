{
 "cells": [
  {
   "cell_type": "code",
   "execution_count": 1,
   "metadata": {},
   "outputs": [],
   "source": [
    "import pandas as pd\n",
    "import numpy as np"
   ]
  },
  {
   "cell_type": "code",
   "execution_count": 2,
   "metadata": {},
   "outputs": [],
   "source": [
    "news_data = pd.read_csv(\"news/news_significant_results_final_features.csv\")\n",
    "papers_data = pd.read_csv(\"papers/papers_significant_results_final_features.csv\")\n",
    "reddit_data = pd.read_csv(\"reddit/reddit_significant_results_final_features.csv\")"
   ]
  },
  {
   "cell_type": "code",
   "execution_count": 7,
   "metadata": {},
   "outputs": [
    {
     "name": "stdout",
     "output_type": "stream",
     "text": [
      "news\n",
      "time\n",
      "[[0.0001 0.0005]]\n",
      "-----------------\n",
      "ONSET_chatgpt\n",
      "[[-1.8815 -0.9293]]\n",
      "-----------------\n",
      "POST_chatgpt\n",
      "[[-0.0044 -0.    ]]\n",
      "-----------------\n",
      "#################\n",
      "papers\n",
      "time\n",
      "[[-0.001  -0.0008]]\n",
      "-----------------\n",
      "ONSET_chatgpt\n",
      "[[-0.2583  0.1729]]\n",
      "-----------------\n",
      "POST_chatgpt\n",
      "[[-0.0019 -0.001 ]]\n",
      "-----------------\n",
      "#################\n",
      "reddit\n",
      "time\n",
      "[[-0.0005  0.    ]]\n",
      "-----------------\n",
      "ONSET_chatgpt\n",
      "[[-0.0761  0.9083]]\n",
      "-----------------\n",
      "POST_chatgpt\n",
      "[[-0.0031 -0.0011]]\n",
      "-----------------\n",
      "#################\n"
     ]
    }
   ],
   "source": [
    "# for each of the time, ONSET_chatgpt, and POST_chatgpt terms (in the term column), extract the conf.low and conf.high values and put them in a [x, y] format\n",
    "\n",
    "for dataset, dataset_name in zip(\n",
    "    [news_data, papers_data, reddit_data], [\"news\", \"papers\", \"reddit\"]\n",
    "):\n",
    "    print(dataset_name)\n",
    "    for term_value in [\"time\", \"ONSET_chatgpt\", \"POST_chatgpt\"]:\n",
    "        print(term_value)\n",
    "        term_data = dataset[dataset[\"term\"] == term_value]\n",
    "        term_data = term_data[[\"conf.low\", \"conf.high\"]]\n",
    "        term_data = term_data.to_numpy()\n",
    "        term_data = np.round(term_data, decimals=4)\n",
    "        print(term_data)\n",
    "        print(\"-----------------\")\n",
    "    print(\"#################\")"
   ]
  }
 ],
 "metadata": {
  "kernelspec": {
   "display_name": "py310",
   "language": "python",
   "name": "python3"
  },
  "language_info": {
   "codemirror_mode": {
    "name": "ipython",
    "version": 3
   },
   "file_extension": ".py",
   "mimetype": "text/x-python",
   "name": "python",
   "nbconvert_exporter": "python",
   "pygments_lexer": "ipython3",
   "version": "3.11.7"
  }
 },
 "nbformat": 4,
 "nbformat_minor": 2
}
