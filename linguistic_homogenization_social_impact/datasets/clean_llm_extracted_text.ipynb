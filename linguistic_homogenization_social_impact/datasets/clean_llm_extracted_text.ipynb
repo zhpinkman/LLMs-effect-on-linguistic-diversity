{
 "cells": [
  {
   "cell_type": "code",
   "execution_count": 119,
   "metadata": {},
   "outputs": [],
   "source": [
    "import pandas as pd\n",
    "import numpy as np\n",
    "import json\n",
    "import os"
   ]
  },
  {
   "cell_type": "code",
   "execution_count": 120,
   "metadata": {},
   "outputs": [],
   "source": [
    "LLM_MODEL_TO_REWRITE = \"gemini\""
   ]
  },
  {
   "cell_type": "code",
   "execution_count": 121,
   "metadata": {},
   "outputs": [],
   "source": [
    "def get_data(file_name):\n",
    "    with open(f\"{file_name}.json\") as f:\n",
    "        data = json.load(f)\n",
    "    return data\n",
    "\n",
    "\n",
    "def extract_text_from(item, count_incomplete):\n",
    "    if LLM_MODEL_TO_REWRITE == \"gpt\":\n",
    "        return item, count_incomplete\n",
    "    if \"\\\\boxed{\" not in item:\n",
    "        if \"**\" in item and LLM_MODEL_TO_REWRITE == \"gemini\":\n",
    "            return item.replace(\"**\", \"\"), count_incomplete\n",
    "        else:\n",
    "            return None, count_incomplete\n",
    "    item_after_boxed = item.split(\"\\\\boxed{\")[1]\n",
    "    if \"}\" not in item_after_boxed:\n",
    "        count_incomplete += 1\n",
    "    item_after_boxed = item_after_boxed.split(\"}\")[0]\n",
    "\n",
    "    return item_after_boxed, count_incomplete\n",
    "\n",
    "\n",
    "def store_updated_data(file_name, new_data):\n",
    "    with open(f\"{file_name}_cleaned.json\", \"w\") as f:\n",
    "        json.dump(new_data, f, indent=4)\n",
    "\n",
    "\n",
    "def get_updated_results(data):\n",
    "    keys_with_errors = []\n",
    "    results = {}\n",
    "    count_incomplete = 0\n",
    "    for key, item in data.items():\n",
    "        try:\n",
    "            extracted, count_incomplete = extract_text_from(item, count_incomplete)\n",
    "\n",
    "            if extracted is None:\n",
    "                keys_with_errors.append(key)\n",
    "            else:\n",
    "                results[key] = extracted\n",
    "        except Exception as e:\n",
    "            print(\"Error with key\", key)\n",
    "            print(e)\n",
    "            break\n",
    "    print(\"Number of items in data:\", len(data))\n",
    "    print(\"Number of items in results:\", len(results))\n",
    "    print(\"Number of keys with errors:\", len(keys_with_errors))\n",
    "    print(\"Number of incomplete items:\", count_incomplete)\n",
    "    print(\"-----------------------------------\")\n",
    "\n",
    "    return results, keys_with_errors\n",
    "\n",
    "\n",
    "def run(file_name):\n",
    "    data = get_data(file_name)\n",
    "    results, keys_with_errors = get_updated_results(data)\n",
    "    store_updated_data(file_name, results)\n",
    "    return data, results, keys_with_errors"
   ]
  },
  {
   "cell_type": "code",
   "execution_count": 122,
   "metadata": {},
   "outputs": [
    {
     "name": "stdout",
     "output_type": "stream",
     "text": [
      "Extracting the data from wassa_individual\n",
      "wassa_rewritten_rephrase_gemini.json\n",
      "Number of items in data: 567\n",
      "Number of items in results: 567\n",
      "Number of keys with errors: 0\n",
      "Number of incomplete items: 14\n",
      "-----------------------------------\n",
      "wassa_rewritten_syntax_grammar_gemini.json\n",
      "Number of items in data: 557\n",
      "Number of items in results: 557\n",
      "Number of keys with errors: 0\n",
      "Number of incomplete items: 27\n",
      "-----------------------------------\n",
      "--------------------------------------------------\n"
     ]
    }
   ],
   "source": [
    "for dir in [\"wassa_individual\"]:\n",
    "    print(\"Extracting the data from\", dir)\n",
    "    files = [file for file in os.listdir(dir) if f\"{LLM_MODEL_TO_REWRITE}.json\" in file]\n",
    "    for file in files:\n",
    "        print(file)\n",
    "        file_name = file.split(\".\")[0]\n",
    "        file_name = os.path.join(dir, file_name)\n",
    "        data, results, keys_with_errors = run(file_name)\n",
    "    print(\"-\" * 50)"
   ]
  },
  {
   "cell_type": "code",
   "execution_count": null,
   "metadata": {},
   "outputs": [],
   "source": []
  }
 ],
 "metadata": {
  "kernelspec": {
   "display_name": "base",
   "language": "python",
   "name": "python3"
  },
  "language_info": {
   "codemirror_mode": {
    "name": "ipython",
    "version": 3
   },
   "file_extension": ".py",
   "mimetype": "text/x-python",
   "name": "python",
   "nbconvert_exporter": "python",
   "pygments_lexer": "ipython3",
   "version": "3.9.13"
  }
 },
 "nbformat": 4,
 "nbformat_minor": 2
}
