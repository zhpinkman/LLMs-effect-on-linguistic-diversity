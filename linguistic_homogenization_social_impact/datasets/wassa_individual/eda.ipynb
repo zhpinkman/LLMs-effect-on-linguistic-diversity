{
 "cells": [
  {
   "cell_type": "code",
   "execution_count": 14,
   "metadata": {},
   "outputs": [],
   "source": [
    "import pandas as pd\n",
    "import numpy as np\n",
    "import json"
   ]
  },
  {
   "cell_type": "code",
   "execution_count": 25,
   "metadata": {},
   "outputs": [],
   "source": [
    "main_columns = [\n",
    "    \"speaker_id\",\n",
    "    \"gender\",\n",
    "    \"age\",\n",
    "    \"race\",\n",
    "    \"education\",\n",
    "    \"income\",\n",
    "    \"O\",\n",
    "    \"C\",\n",
    "    \"E\",\n",
    "    \"A\",\n",
    "    \"N\",\n",
    "    \"iri.perspective\",\n",
    "    \"iri.distress\",\n",
    "    \"iri.fantasy\",\n",
    "    \"iri.concern\",\n",
    "    \"z.iri.perspective\",\n",
    "    \"z.iri.distress\",\n",
    "    \"z.iri.fantasy\",\n",
    "    \"z.iri.concern\",\n",
    "    \"c.iri.perspective\",\n",
    "    \"c.iri.distress\",\n",
    "    \"c.iri.fantasy\",\n",
    "    \"c.iri.concern\",\n",
    "    \"article_id\",\n",
    "    \"id\",\n",
    "    \"text\",\n",
    "]"
   ]
  },
  {
   "cell_type": "code",
   "execution_count": 31,
   "metadata": {},
   "outputs": [],
   "source": [
    "for file in [\n",
    "    \"clean_wassa.csv\",\n",
    "    \"wassa_rewritten_rephrase_gemini_cleaned.csv\",\n",
    "    \"wassa_rewritten_rephrase_gpt_cleaned.csv\",\n",
    "    \"wassa_rewritten_rephrase_llama_cleaned.csv\",\n",
    "    \"wassa_rewritten_syntax_grammar_gemini_cleaned.csv\",\n",
    "    \"wassa_rewritten_syntax_grammar_gpt_cleaned.csv\",\n",
    "    \"wassa_rewritten_syntax_grammar_llama_cleaned.csv\",\n",
    "]:\n",
    "    df = pd.read_csv(file)\n",
    "    # df = df[main_columns]\n",
    "    speaker_ids = df[\"speaker_id\"].unique()\n",
    "    for speaker_id in speaker_ids:\n",
    "        for col in main_columns[:-3]:\n",
    "            assert df[df[\"speaker_id\"] == speaker_id][col].value_counts().shape[0] == 1"
   ]
  },
  {
   "cell_type": "code",
   "execution_count": null,
   "metadata": {},
   "outputs": [],
   "source": []
  }
 ],
 "metadata": {
  "kernelspec": {
   "display_name": "base",
   "language": "python",
   "name": "python3"
  },
  "language_info": {
   "codemirror_mode": {
    "name": "ipython",
    "version": 3
   },
   "file_extension": ".py",
   "mimetype": "text/x-python",
   "name": "python",
   "nbconvert_exporter": "python",
   "pygments_lexer": "ipython3",
   "version": "3.9.13"
  }
 },
 "nbformat": 4,
 "nbformat_minor": 2
}
