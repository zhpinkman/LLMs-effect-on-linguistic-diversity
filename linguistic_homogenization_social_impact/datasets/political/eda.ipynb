{
 "cells": [
  {
   "cell_type": "code",
   "execution_count": 1,
   "metadata": {},
   "outputs": [],
   "source": [
    "import pandas as pd\n",
    "import numpy as np\n",
    "from ast import literal_eval"
   ]
  },
  {
   "cell_type": "code",
   "execution_count": null,
   "metadata": {},
   "outputs": [],
   "source": [
    "main_df = pd.read_csv(\"political_data.csv\")\n",
    "main_df.head(3)"
   ]
  },
  {
   "cell_type": "code",
   "execution_count": 3,
   "metadata": {},
   "outputs": [],
   "source": [
    "main_df[\"text\"] = main_df[\"text\"].apply(literal_eval)"
   ]
  },
  {
   "cell_type": "code",
   "execution_count": 4,
   "metadata": {},
   "outputs": [
    {
     "data": {
      "text/plain": [
       "(1, 21142, 8520)"
      ]
     },
     "execution_count": 4,
     "metadata": {},
     "output_type": "execute_result"
    }
   ],
   "source": [
    "main_df[\"num_speeches\"].min(), main_df[\"num_speeches\"].max(), main_df[\n",
    "    \"speakerid\"\n",
    "].nunique()"
   ]
  },
  {
   "cell_type": "code",
   "execution_count": 5,
   "metadata": {},
   "outputs": [],
   "source": [
    "def filter_based_on_longer_texts(users_texts):\n",
    "    MAX_THRESHOLD_TEXTS = 3700\n",
    "    new_users_texts = []\n",
    "    for user_texts in users_texts:\n",
    "\n",
    "        user_texts_lengths = {\n",
    "            i: len(user_texts[i].split()) for i in range(len(user_texts))\n",
    "        }\n",
    "        user_texts_lengths_sorted = sorted(\n",
    "            user_texts_lengths.items(), key=lambda item: item[1], reverse=True\n",
    "        )\n",
    "        curr_len = 0\n",
    "        new_user_texts = []\n",
    "        curr_index = 0\n",
    "        while curr_len < MAX_THRESHOLD_TEXTS and curr_index < len(\n",
    "            user_texts_lengths_sorted\n",
    "        ):\n",
    "            if (\n",
    "                curr_len + user_texts_lengths_sorted[curr_index][1]\n",
    "                > MAX_THRESHOLD_TEXTS + 200\n",
    "            ):\n",
    "                curr_index += 1\n",
    "                continue\n",
    "            if user_texts_lengths_sorted[curr_index][1] > 1700:\n",
    "                curr_index += 1\n",
    "                continue\n",
    "            new_user_texts.append(user_texts[user_texts_lengths_sorted[curr_index][0]])\n",
    "            curr_len += user_texts_lengths_sorted[curr_index][1]\n",
    "            curr_index += 1\n",
    "\n",
    "        new_users_texts.append(new_user_texts)\n",
    "    return new_users_texts"
   ]
  },
  {
   "cell_type": "code",
   "execution_count": 6,
   "metadata": {},
   "outputs": [
    {
     "data": {
      "text/plain": [
       "(8521, 17)"
      ]
     },
     "execution_count": 6,
     "metadata": {},
     "output_type": "execute_result"
    }
   ],
   "source": [
    "main_df.shape"
   ]
  },
  {
   "cell_type": "code",
   "execution_count": 7,
   "metadata": {},
   "outputs": [],
   "source": [
    "df = main_df.copy()\n",
    "df[\"text\"] = filter_based_on_longer_texts(df[\"text\"])"
   ]
  },
  {
   "cell_type": "code",
   "execution_count": 8,
   "metadata": {},
   "outputs": [],
   "source": [
    "df[\"cohort\"] = df[\"age\"].apply(\n",
    "    lambda x: (\n",
    "        \"27-40\"\n",
    "        if 27 <= x <= 40\n",
    "        else \"41-55\" if 41 <= x <= 55 else \"56-70\" if 56 <= x <= 70 else \"over 70\"\n",
    "    )\n",
    ")"
   ]
  },
  {
   "cell_type": "code",
   "execution_count": 9,
   "metadata": {},
   "outputs": [
    {
     "data": {
      "text/plain": [
       "cohort   party  gender\n",
       "27-40    D      F           15\n",
       "                M          368\n",
       "         R      F           20\n",
       "                M          362\n",
       "41-55    D      F          202\n",
       "                M         1656\n",
       "         R      F          109\n",
       "                M         1672\n",
       "56-70    D      F          264\n",
       "                M         1374\n",
       "         R      F          120\n",
       "                M         1302\n",
       "over 70  D      F           73\n",
       "                M          544\n",
       "         R      F           25\n",
       "                M          415\n",
       "dtype: int64"
      ]
     },
     "execution_count": 9,
     "metadata": {},
     "output_type": "execute_result"
    }
   ],
   "source": [
    "groups_sizes = df.groupby([\"cohort\", \"party\", \"gender\"]).size()\n",
    "groups_sizes"
   ]
  },
  {
   "cell_type": "code",
   "execution_count": 10,
   "metadata": {},
   "outputs": [],
   "source": [
    "final_df = None\n",
    "for cohort, party, gender in groups_sizes.index:\n",
    "    max_size = groups_sizes.loc[cohort, party, gender]\n",
    "    curr_final_df = df[\n",
    "        (df[\"cohort\"] == cohort) & (df[\"party\"] == party) & (df[\"gender\"] == gender)\n",
    "    ].sample(n=min(50, max_size), random_state=42, replace=False)\n",
    "    if final_df is None:\n",
    "        final_df = curr_final_df\n",
    "    else:\n",
    "        final_df = pd.concat([final_df, curr_final_df])"
   ]
  },
  {
   "cell_type": "code",
   "execution_count": 11,
   "metadata": {},
   "outputs": [],
   "source": [
    "final_df = final_df[[\"speakerid\", \"text\", \"cohort\", \"party\", \"gender\"]]"
   ]
  },
  {
   "cell_type": "code",
   "execution_count": 12,
   "metadata": {},
   "outputs": [
    {
     "data": {
      "text/html": [
       "<div>\n",
       "<style scoped>\n",
       "    .dataframe tbody tr th:only-of-type {\n",
       "        vertical-align: middle;\n",
       "    }\n",
       "\n",
       "    .dataframe tbody tr th {\n",
       "        vertical-align: top;\n",
       "    }\n",
       "\n",
       "    .dataframe thead th {\n",
       "        text-align: right;\n",
       "    }\n",
       "</style>\n",
       "<table border=\"1\" class=\"dataframe\">\n",
       "  <thead>\n",
       "    <tr style=\"text-align: right;\">\n",
       "      <th></th>\n",
       "      <th>speakerid</th>\n",
       "      <th>text</th>\n",
       "      <th>cohort</th>\n",
       "      <th>party</th>\n",
       "      <th>gender</th>\n",
       "    </tr>\n",
       "  </thead>\n",
       "  <tbody>\n",
       "    <tr>\n",
       "      <th>5639</th>\n",
       "      <td>111116290</td>\n",
       "      <td>[Thank you. Chairman TANNER. for this opportun...</td>\n",
       "      <td>27-40</td>\n",
       "      <td>D</td>\n",
       "      <td>F</td>\n",
       "    </tr>\n",
       "    <tr>\n",
       "      <th>6303</th>\n",
       "      <td>104114320</td>\n",
       "      <td>[I just think it is very important for the Ame...</td>\n",
       "      <td>27-40</td>\n",
       "      <td>D</td>\n",
       "      <td>F</td>\n",
       "    </tr>\n",
       "    <tr>\n",
       "      <th>933</th>\n",
       "      <td>113121980</td>\n",
       "      <td>[Thank you. Representative LAMALFA. for your c...</td>\n",
       "      <td>27-40</td>\n",
       "      <td>D</td>\n",
       "      <td>F</td>\n",
       "    </tr>\n",
       "    <tr>\n",
       "      <th>7513</th>\n",
       "      <td>105121190</td>\n",
       "      <td>[Mr. Speaker. thank you for the opportunity to...</td>\n",
       "      <td>27-40</td>\n",
       "      <td>D</td>\n",
       "      <td>F</td>\n",
       "    </tr>\n",
       "    <tr>\n",
       "      <th>2399</th>\n",
       "      <td>106118520</td>\n",
       "      <td>[Mr. Speaker. I rise today to pay tribute to a...</td>\n",
       "      <td>27-40</td>\n",
       "      <td>D</td>\n",
       "      <td>F</td>\n",
       "    </tr>\n",
       "    <tr>\n",
       "      <th>...</th>\n",
       "      <td>...</td>\n",
       "      <td>...</td>\n",
       "      <td>...</td>\n",
       "      <td>...</td>\n",
       "      <td>...</td>\n",
       "    </tr>\n",
       "    <tr>\n",
       "      <th>5558</th>\n",
       "      <td>111115400</td>\n",
       "      <td>[Mr. Chair. I rise reluctantly to oppose H.R. ...</td>\n",
       "      <td>over 70</td>\n",
       "      <td>R</td>\n",
       "      <td>M</td>\n",
       "    </tr>\n",
       "    <tr>\n",
       "      <th>7621</th>\n",
       "      <td>107113550</td>\n",
       "      <td>[Mr. Chairman. I want to begin by thanking my ...</td>\n",
       "      <td>over 70</td>\n",
       "      <td>R</td>\n",
       "      <td>M</td>\n",
       "    </tr>\n",
       "    <tr>\n",
       "      <th>2231</th>\n",
       "      <td>106114880</td>\n",
       "      <td>[Mr. Chairman. I thank the gentleman for yield...</td>\n",
       "      <td>over 70</td>\n",
       "      <td>R</td>\n",
       "      <td>M</td>\n",
       "    </tr>\n",
       "    <tr>\n",
       "      <th>5695</th>\n",
       "      <td>111117000</td>\n",
       "      <td>[I thank the gentleman for yielding. and I wan...</td>\n",
       "      <td>over 70</td>\n",
       "      <td>R</td>\n",
       "      <td>M</td>\n",
       "    </tr>\n",
       "    <tr>\n",
       "      <th>8415</th>\n",
       "      <td>109119591</td>\n",
       "      <td>[Mr. President. I speak in favor of doing away...</td>\n",
       "      <td>over 70</td>\n",
       "      <td>R</td>\n",
       "      <td>M</td>\n",
       "    </tr>\n",
       "  </tbody>\n",
       "</table>\n",
       "<p>710 rows × 5 columns</p>\n",
       "</div>"
      ],
      "text/plain": [
       "      speakerid                                               text   cohort  \\\n",
       "5639  111116290  [Thank you. Chairman TANNER. for this opportun...    27-40   \n",
       "6303  104114320  [I just think it is very important for the Ame...    27-40   \n",
       "933   113121980  [Thank you. Representative LAMALFA. for your c...    27-40   \n",
       "7513  105121190  [Mr. Speaker. thank you for the opportunity to...    27-40   \n",
       "2399  106118520  [Mr. Speaker. I rise today to pay tribute to a...    27-40   \n",
       "...         ...                                                ...      ...   \n",
       "5558  111115400  [Mr. Chair. I rise reluctantly to oppose H.R. ...  over 70   \n",
       "7621  107113550  [Mr. Chairman. I want to begin by thanking my ...  over 70   \n",
       "2231  106114880  [Mr. Chairman. I thank the gentleman for yield...  over 70   \n",
       "5695  111117000  [I thank the gentleman for yielding. and I wan...  over 70   \n",
       "8415  109119591  [Mr. President. I speak in favor of doing away...  over 70   \n",
       "\n",
       "     party gender  \n",
       "5639     D      F  \n",
       "6303     D      F  \n",
       "933      D      F  \n",
       "7513     D      F  \n",
       "2399     D      F  \n",
       "...    ...    ...  \n",
       "5558     R      M  \n",
       "7621     R      M  \n",
       "2231     R      M  \n",
       "5695     R      M  \n",
       "8415     R      M  \n",
       "\n",
       "[710 rows x 5 columns]"
      ]
     },
     "execution_count": 12,
     "metadata": {},
     "output_type": "execute_result"
    }
   ],
   "source": [
    "final_df"
   ]
  },
  {
   "cell_type": "code",
   "execution_count": 64,
   "metadata": {},
   "outputs": [],
   "source": [
    "all_speaker_ids = []\n",
    "all_texts = []\n",
    "all_cohorts = []\n",
    "all_parties = []\n",
    "all_genders = []\n",
    "for index, row in final_df.iterrows():\n",
    "    for text in row[\"text\"]:\n",
    "        all_speaker_ids.append(row[\"speakerid\"])\n",
    "        all_texts.append(text)\n",
    "        all_cohorts.append(row[\"cohort\"])\n",
    "        all_parties.append(row[\"party\"])\n",
    "        all_genders.append(row[\"gender\"])\n",
    "\n",
    "final_df = pd.DataFrame(\n",
    "    {\n",
    "        \"speakerid\": all_speaker_ids,\n",
    "        \"text\": all_texts,\n",
    "        \"cohort\": all_cohorts,\n",
    "        \"party\": all_parties,\n",
    "        \"gender\": all_genders,\n",
    "    }\n",
    ")"
   ]
  },
  {
   "cell_type": "code",
   "execution_count": 66,
   "metadata": {},
   "outputs": [],
   "source": [
    "final_df[\"text_lengths\"] = final_df[\"text\"].apply(lambda x: len(x.split()))"
   ]
  },
  {
   "cell_type": "code",
   "execution_count": 69,
   "metadata": {},
   "outputs": [],
   "source": [
    "final_df = final_df[final_df[\"text_lengths\"] > 100]"
   ]
  },
  {
   "cell_type": "code",
   "execution_count": 79,
   "metadata": {},
   "outputs": [
    {
     "name": "stderr",
     "output_type": "stream",
     "text": [
      "/var/folders/s6/_dcfmqnx4mxbhf22rbww8kwc0000gp/T/ipykernel_2380/3324877382.py:1: SettingWithCopyWarning: \n",
      "A value is trying to be set on a copy of a slice from a DataFrame.\n",
      "Try using .loc[row_indexer,col_indexer] = value instead\n",
      "\n",
      "See the caveats in the documentation: https://pandas.pydata.org/pandas-docs/stable/user_guide/indexing.html#returning-a-view-versus-a-copy\n",
      "  final_df[\"id\"] = final_df.index\n"
     ]
    }
   ],
   "source": [
    "final_df[\"id\"] = final_df.index"
   ]
  },
  {
   "cell_type": "code",
   "execution_count": 84,
   "metadata": {},
   "outputs": [],
   "source": [
    "# final_df.to_csv(\"clean_data.csv\", index=False)"
   ]
  },
  {
   "cell_type": "code",
   "execution_count": 1,
   "metadata": {},
   "outputs": [],
   "source": [
    "import pandas as pd"
   ]
  },
  {
   "cell_type": "code",
   "execution_count": 12,
   "metadata": {},
   "outputs": [],
   "source": [
    "df = pd.read_csv(\"clean_data_agg.csv\")"
   ]
  },
  {
   "cell_type": "code",
   "execution_count": 13,
   "metadata": {},
   "outputs": [
    {
     "data": {
      "text/plain": [
       "(array(['over 70', '41-55', '27-40', '56-70'], dtype=object),\n",
       " array(['R', 'D'], dtype=object),\n",
       " array(['M', 'F'], dtype=object))"
      ]
     },
     "execution_count": 13,
     "metadata": {},
     "output_type": "execute_result"
    }
   ],
   "source": [
    "df[\"cohort\"].unique(), df[\"party\"].unique(), df[\"gender\"].unique()"
   ]
  },
  {
   "cell_type": "code",
   "execution_count": 15,
   "metadata": {},
   "outputs": [
    {
     "name": "stdout",
     "output_type": "stream",
     "text": [
      "cohort\n",
      "41-55      200\n",
      "56-70      200\n",
      "over 70    175\n",
      "27-40      135\n",
      "Name: count, dtype: int64\n",
      "party\n",
      "D    365\n",
      "R    345\n",
      "Name: count, dtype: int64\n",
      "gender\n",
      "M    400\n",
      "F    310\n",
      "Name: count, dtype: int64\n"
     ]
    },
    {
     "data": {
      "text/plain": [
       "(None, None, None)"
      ]
     },
     "execution_count": 15,
     "metadata": {},
     "output_type": "execute_result"
    }
   ],
   "source": [
    "print(df[\"cohort\"].value_counts()), print(df[\"party\"].value_counts()), print(\n",
    "    df[\"gender\"].value_counts()\n",
    ")"
   ]
  },
  {
   "cell_type": "code",
   "execution_count": 18,
   "metadata": {},
   "outputs": [
    {
     "data": {
      "text/plain": [
       "710"
      ]
     },
     "execution_count": 18,
     "metadata": {},
     "output_type": "execute_result"
    }
   ],
   "source": [
    "df[\"speakerid\"].nunique()"
   ]
  }
 ],
 "metadata": {
  "kernelspec": {
   "display_name": "base",
   "language": "python",
   "name": "python3"
  },
  "language_info": {
   "codemirror_mode": {
    "name": "ipython",
    "version": 3
   },
   "file_extension": ".py",
   "mimetype": "text/x-python",
   "name": "python",
   "nbconvert_exporter": "python",
   "pygments_lexer": "ipython3",
   "version": "3.9.13"
  }
 },
 "nbformat": 4,
 "nbformat_minor": 2
}
