{
 "cells": [
  {
   "cell_type": "code",
   "execution_count": 11,
   "metadata": {},
   "outputs": [],
   "source": [
    "import pandas as pd\n",
    "import numpy as np\n",
    "import json\n",
    "import os"
   ]
  },
  {
   "cell_type": "code",
   "execution_count": 12,
   "metadata": {},
   "outputs": [],
   "source": [
    "def aggregate_data(data_to_agg, output_file_name):\n",
    "    data_to_agg.set_index(\"id\", inplace=True)\n",
    "    data_to_agg.sort_index(inplace=True)\n",
    "    data_to_agg.reset_index(inplace=True, drop=False)\n",
    "    text_lengths = data_to_agg[\"text\"].apply(lambda x: len(x.split()))\n",
    "    print(\"Average text length:\", np.mean(text_lengths))\n",
    "    new_df = (\n",
    "        data_to_agg.groupby(\"speakerid\")[\"text\"]\n",
    "        .apply(lambda x: \".\\n\".join(x))\n",
    "        .reset_index()\n",
    "    )\n",
    "    for col in [\"cohort\", \"party\", \"gender\"]:\n",
    "        new_df = pd.merge(\n",
    "            new_df,\n",
    "            data_to_agg[[col, \"speakerid\"]].drop_duplicates(),\n",
    "            on=\"speakerid\",\n",
    "            how=\"left\",\n",
    "        )\n",
    "    print(new_df.shape)\n",
    "    text_lengths = new_df[\"text\"].apply(lambda x: len(x.split()))\n",
    "    print(\"Average text length:\", np.mean(text_lengths))\n",
    "\n",
    "    new_df.to_csv(output_file_name, index=False)\n",
    "    return new_df"
   ]
  },
  {
   "cell_type": "code",
   "execution_count": 13,
   "metadata": {},
   "outputs": [
    {
     "name": "stdout",
     "output_type": "stream",
     "text": [
      "Average text length: 829.5143297380586\n",
      "(710, 5)\n",
      "Average text length: 3791.230985915493\n"
     ]
    },
    {
     "data": {
      "text/html": [
       "<div>\n",
       "<style scoped>\n",
       "    .dataframe tbody tr th:only-of-type {\n",
       "        vertical-align: middle;\n",
       "    }\n",
       "\n",
       "    .dataframe tbody tr th {\n",
       "        vertical-align: top;\n",
       "    }\n",
       "\n",
       "    .dataframe thead th {\n",
       "        text-align: right;\n",
       "    }\n",
       "</style>\n",
       "<table border=\"1\" class=\"dataframe\">\n",
       "  <thead>\n",
       "    <tr style=\"text-align: right;\">\n",
       "      <th></th>\n",
       "      <th>speakerid</th>\n",
       "      <th>text</th>\n",
       "      <th>cohort</th>\n",
       "      <th>party</th>\n",
       "      <th>gender</th>\n",
       "    </tr>\n",
       "  </thead>\n",
       "  <tbody>\n",
       "    <tr>\n",
       "      <th>0</th>\n",
       "      <td>97105451</td>\n",
       "      <td>Mr. President. I am introducing today a bill t...</td>\n",
       "      <td>over 70</td>\n",
       "      <td>R</td>\n",
       "      <td>M</td>\n",
       "    </tr>\n",
       "    <tr>\n",
       "      <th>1</th>\n",
       "      <td>97105580</td>\n",
       "      <td>Mr. Speaker. today I am introducing legislatio...</td>\n",
       "      <td>41-55</td>\n",
       "      <td>R</td>\n",
       "      <td>F</td>\n",
       "    </tr>\n",
       "    <tr>\n",
       "      <th>2</th>\n",
       "      <td>97105760</td>\n",
       "      <td>Mr. Speaker. reserving the right to object. I ...</td>\n",
       "      <td>over 70</td>\n",
       "      <td>R</td>\n",
       "      <td>M</td>\n",
       "    </tr>\n",
       "  </tbody>\n",
       "</table>\n",
       "</div>"
      ],
      "text/plain": [
       "   speakerid                                               text   cohort  \\\n",
       "0   97105451  Mr. President. I am introducing today a bill t...  over 70   \n",
       "1   97105580  Mr. Speaker. today I am introducing legislatio...    41-55   \n",
       "2   97105760  Mr. Speaker. reserving the right to object. I ...  over 70   \n",
       "\n",
       "  party gender  \n",
       "0     R      M  \n",
       "1     R      F  \n",
       "2     R      M  "
      ]
     },
     "execution_count": 13,
     "metadata": {},
     "output_type": "execute_result"
    }
   ],
   "source": [
    "main_df = pd.read_csv(\"clean_data.csv\")\n",
    "main_df[\"id\"] = main_df[\"id\"].astype(str)\n",
    "\n",
    "new_df = aggregate_data(main_df, \"clean_data_agg.csv\")\n",
    "new_df.head(3)"
   ]
  },
  {
   "cell_type": "code",
   "execution_count": 14,
   "metadata": {},
   "outputs": [
    {
     "name": "stdout",
     "output_type": "stream",
     "text": [
      "Shape of the rewritten data: (3197, 2)\n",
      "Shape of the rewritten data: (3197, 6)\n",
      "Average text length: 258.98310916484206\n",
      "(710, 5)\n",
      "Average text length: 1166.5056338028169\n",
      "Shape of the aggregated data: (710, 5)\n",
      "Shape of the rewritten data: (3195, 2)\n",
      "Shape of the rewritten data: (3195, 6)\n",
      "Average text length: 589.8378716744913\n",
      "(710, 5)\n",
      "Average text length: 2654.574647887324\n",
      "Shape of the aggregated data: (710, 5)\n",
      "Shape of the rewritten data: (3245, 2)\n",
      "Shape of the rewritten data: (3245, 6)\n",
      "Average text length: 291.71833590138675\n",
      "(710, 5)\n",
      "Average text length: 1333.2760563380282\n",
      "Shape of the aggregated data: (710, 5)\n",
      "Shape of the rewritten data: (3245, 2)\n",
      "Shape of the rewritten data: (3245, 6)\n",
      "Average text length: 473.71032357473035\n",
      "(710, 5)\n",
      "Average text length: 2165.056338028169\n",
      "Shape of the aggregated data: (710, 5)\n",
      "Shape of the rewritten data: (3241, 2)\n",
      "Shape of the rewritten data: (3241, 6)\n",
      "Average text length: 280.071582844801\n",
      "(710, 5)\n",
      "Average text length: 1281.0718309859155\n",
      "Shape of the aggregated data: (710, 5)\n",
      "Shape of the rewritten data: (3243, 2)\n",
      "Shape of the rewritten data: (3243, 6)\n",
      "Average text length: 532.6543324082639\n",
      "(710, 5)\n",
      "Average text length: 2435.9281690140847\n",
      "Shape of the aggregated data: (710, 5)\n"
     ]
    }
   ],
   "source": [
    "for file in [\n",
    "    \"political_rewritten_rephrase_gemini_cleaned.json\",\n",
    "    \"political_rewritten_syntax_grammar_gemini_cleaned.json\",\n",
    "    \"political_rewritten_rephrase_gpt_cleaned.json\",\n",
    "    \"political_rewritten_syntax_grammar_gpt_cleaned.json\",\n",
    "    \"political_rewritten_rephrase_llama_cleaned.json\",\n",
    "    \"political_rewritten_syntax_grammar_llama_cleaned.json\",\n",
    "]:\n",
    "    with open(file, \"r\") as f:\n",
    "        data = json.load(f)\n",
    "\n",
    "    rewritten_df = pd.DataFrame.from_records(\n",
    "        list(zip(data.keys(), data.values())), columns=[\"id\", \"text\"]\n",
    "    )\n",
    "    print(\"Shape of the rewritten data:\", rewritten_df.shape)\n",
    "    for col in [\"cohort\", \"party\", \"gender\", \"speakerid\"]:\n",
    "        rewritten_df = pd.merge(\n",
    "            rewritten_df,\n",
    "            main_df[[col, \"id\"]].drop_duplicates(),\n",
    "            on=\"id\",\n",
    "            how=\"left\",\n",
    "        )\n",
    "    print(\"Shape of the rewritten data:\", rewritten_df.shape)\n",
    "    new_df = aggregate_data(rewritten_df, file.replace(\".json\", \".csv\"))\n",
    "    print(\"Shape of the aggregated data:\", new_df.shape)"
   ]
  }
 ],
 "metadata": {
  "kernelspec": {
   "display_name": "base",
   "language": "python",
   "name": "python3"
  },
  "language_info": {
   "codemirror_mode": {
    "name": "ipython",
    "version": 3
   },
   "file_extension": ".py",
   "mimetype": "text/x-python",
   "name": "python",
   "nbconvert_exporter": "python",
   "pygments_lexer": "ipython3",
   "version": "3.9.13"
  }
 },
 "nbformat": 4,
 "nbformat_minor": 2
}
