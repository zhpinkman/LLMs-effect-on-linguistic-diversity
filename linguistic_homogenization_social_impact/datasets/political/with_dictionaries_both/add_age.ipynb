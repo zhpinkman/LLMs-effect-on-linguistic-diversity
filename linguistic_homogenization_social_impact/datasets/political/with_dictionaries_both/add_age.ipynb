{
 "cells": [
  {
   "cell_type": "code",
   "execution_count": 13,
   "metadata": {},
   "outputs": [],
   "source": [
    "import pandas as pd\n",
    "import os"
   ]
  },
  {
   "cell_type": "code",
   "execution_count": 2,
   "metadata": {},
   "outputs": [],
   "source": [
    "main_df = pd.read_csv(\"../political_data.csv\")"
   ]
  },
  {
   "cell_type": "code",
   "execution_count": 14,
   "metadata": {},
   "outputs": [
    {
     "name": "stdout",
     "output_type": "stream",
     "text": [
      "(710, 158)\n",
      "(710, 159)\n",
      "-------------------\n",
      "(710, 158)\n",
      "(710, 159)\n",
      "-------------------\n",
      "(710, 158)\n",
      "(710, 159)\n",
      "-------------------\n",
      "(710, 158)\n",
      "(710, 159)\n",
      "-------------------\n",
      "(710, 158)\n",
      "(710, 159)\n",
      "-------------------\n",
      "(710, 158)\n",
      "(710, 159)\n",
      "-------------------\n",
      "(710, 158)\n",
      "(710, 159)\n",
      "-------------------\n"
     ]
    }
   ],
   "source": [
    "for file in os.listdir(\".\"):\n",
    "    if file.endswith(\".csv\"):\n",
    "        df = pd.read_csv(file)\n",
    "        print(df.shape)\n",
    "        df = pd.merge(\n",
    "            df,\n",
    "            main_df[[\"speakerid\", \"age\"]]\n",
    "            .drop_duplicates()\n",
    "            .rename(columns={\"age\": \"age_numerical\"}),\n",
    "            on=\"speakerid\",\n",
    "            how=\"left\",\n",
    "        )\n",
    "        print(df.shape)\n",
    "        print(\"-------------------\")\n",
    "        df.to_csv(file, index=False)"
   ]
  },
  {
   "cell_type": "code",
   "execution_count": null,
   "metadata": {},
   "outputs": [],
   "source": []
  }
 ],
 "metadata": {
  "kernelspec": {
   "display_name": "base",
   "language": "python",
   "name": "python3"
  },
  "language_info": {
   "codemirror_mode": {
    "name": "ipython",
    "version": 3
   },
   "file_extension": ".py",
   "mimetype": "text/x-python",
   "name": "python",
   "nbconvert_exporter": "python",
   "pygments_lexer": "ipython3",
   "version": "3.9.13"
  }
 },
 "nbformat": 4,
 "nbformat_minor": 2
}
