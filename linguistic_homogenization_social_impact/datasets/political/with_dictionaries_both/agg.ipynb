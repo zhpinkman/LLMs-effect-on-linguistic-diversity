{
 "cells": [
  {
   "cell_type": "code",
   "execution_count": 1,
   "metadata": {},
   "outputs": [],
   "source": [
    "import pandas as pd\n",
    "import os\n",
    "import numpy as np"
   ]
  },
  {
   "cell_type": "code",
   "execution_count": 3,
   "metadata": {},
   "outputs": [],
   "source": [
    "files_1 = os.listdir(\"../with_dictionaries_2007\")\n",
    "files_2 = os.listdir(\"../with_dictionaries_2015\")"
   ]
  },
  {
   "cell_type": "code",
   "execution_count": 7,
   "metadata": {},
   "outputs": [],
   "source": [
    "for file in files_2:\n",
    "    df1 = pd.read_csv(\"../with_dictionaries_2007/\" + file)\n",
    "    df2 = pd.read_csv(\"../with_dictionaries_2015/\" + file)\n",
    "    for col in df1.columns:\n",
    "        if col not in df2.columns:\n",
    "            df2 = pd.merge(df2, df1[[\"speakerid\", col]], on=\"speakerid\", how=\"left\")\n",
    "    df2.to_csv(file, index=False)"
   ]
  }
 ],
 "metadata": {
  "kernelspec": {
   "display_name": "base",
   "language": "python",
   "name": "python3"
  },
  "language_info": {
   "codemirror_mode": {
    "name": "ipython",
    "version": 3
   },
   "file_extension": ".py",
   "mimetype": "text/x-python",
   "name": "python",
   "nbconvert_exporter": "python",
   "pygments_lexer": "ipython3",
   "version": "3.9.13"
  }
 },
 "nbformat": 4,
 "nbformat_minor": 2
}
